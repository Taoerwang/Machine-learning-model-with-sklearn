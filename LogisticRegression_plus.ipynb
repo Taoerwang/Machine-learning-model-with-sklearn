{
 "cells": [
  {
   "cell_type": "code",
   "execution_count": 92,
   "metadata": {},
   "outputs": [
    {
     "data": {
      "text/plain": [
       "0.96"
      ]
     },
     "execution_count": 92,
     "metadata": {},
     "output_type": "execute_result"
    }
   ],
   "source": [
    "import seaborn as sns; sns.set(style=\"ticks\", color_codes=True)\n",
    "from sklearn.model_selection import train_test_split\n",
    "from sklearn.linear_model import LogisticRegression\n",
    "\n",
    "iris = sns.load_dataset(\"iris\")\n",
    "all_data = iris[['sepal_length', 'sepal_width', 'petal_length', 'petal_width']]\n",
    "all_label = iris['species']\n",
    "train_data, test_data, train_label, test_label = train_test_split(all_data, all_label,test_size=0.5, random_state=1)\n",
    "\n",
    "model = LogisticRegression(C=1e5, solver='lbfgs', multi_class='ovr')\n",
    "model.fit(train_data, train_label)\n",
    "model.score(test_data,test_label)"
   ]
  },
  {
   "cell_type": "code",
   "execution_count": 91,
   "metadata": {},
   "outputs": [
    {
     "data": {
      "text/plain": [
       "0.96"
      ]
     },
     "execution_count": 91,
     "metadata": {},
     "output_type": "execute_result"
    }
   ],
   "source": [
    "model = LogisticRegression(penalty='l2',C=1000, solver='lbfgs', multi_class='ovr')\n",
    "model.fit(train_data, train_label)\n",
    "model.score(test_data,test_label)"
   ]
  },
  {
   "cell_type": "markdown",
   "metadata": {},
   "source": [
    "|name|liblinear|lbfgs|newton-cg|sag|saga|\n",
    "|--|--|--|--|--|--|\n",
    "|OvR|√|√|√|√|√|\n",
    "|MvM|-|√|√|√|√|\n",
    "|l1|√|-|-|-|√|\n",
    "|l2|-|√|√|√|√|\n",
    "\n",
    "|name|liblinear|lbfgs|newton-cg|sag|saga|\n",
    "|--|--|--|--|--|--|\n",
    "|l1&OvR|0.96|-|-|-|0.946|\n",
    "|l1&MvM|-|-|-|-|0.986|\n",
    "|l2&OvR|-|0.96|0.96|0.946|0.946|\n",
    "|l2&MvM|-|0.946|0.946|0.973|0.986|\n"
   ]
  }
 ],
 "metadata": {
  "kernelspec": {
   "display_name": "Python 3",
   "language": "python",
   "name": "python3"
  },
  "language_info": {
   "codemirror_mode": {
    "name": "ipython",
    "version": 3
   },
   "file_extension": ".py",
   "mimetype": "text/x-python",
   "name": "python",
   "nbconvert_exporter": "python",
   "pygments_lexer": "ipython3",
   "version": "3.6.7"
  }
 },
 "nbformat": 4,
 "nbformat_minor": 2
}
