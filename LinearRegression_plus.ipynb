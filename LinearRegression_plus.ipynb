{
 "cells": [
  {
   "cell_type": "code",
   "execution_count": 4,
   "metadata": {},
   "outputs": [
    {
     "name": "stdout",
     "output_type": "stream",
     "text": [
      "1.4046514230328955\n"
     ]
    }
   ],
   "source": [
    "import pandas as pd\n",
    "from sklearn import metrics\n",
    "import numpy as np\n",
    "from sklearn.linear_model import LinearRegression\n",
    "from sklearn.model_selection import train_test_split\n",
    "\n",
    "data = pd.read_csv('http://www-bcf.usc.edu/~gareth/ISL/Advertising.csv', index_col=0)\n",
    "\n",
    "# 建议使用下面各个两个种数据尝试一下，就会发现各个方法的不同\n",
    "all_data = data[['TV','radio', 'newspaper']]\n",
    "# all_data = data[['TV','radio']]\n",
    "all_label = data['sales']\n",
    "train_data, test_data, train_label, test_label = train_test_split(all_data, all_label,test_size=0.25, random_state=1)\n",
    "linreg = LinearRegression()\n",
    "linreg.fit(train_data, train_label)\n",
    "test_pred = linreg.predict(test_data)\n",
    "# 均方根误差 Root Mean Squared Error, RMSE\n",
    "print(np.sqrt(metrics.mean_squared_error(test_label, test_pred)))"
   ]
  },
  {
   "cell_type": "code",
   "execution_count": 5,
   "metadata": {},
   "outputs": [
    {
     "name": "stdout",
     "output_type": "stream",
     "text": [
      "1.4046675192134495\n"
     ]
    }
   ],
   "source": [
    "from sklearn.linear_model import Ridge\n",
    "model = Ridge (alpha = .5)\n",
    "model.fit(train_data, train_label)\n",
    "test_pred = model.predict(test_data)\n",
    "print(np.sqrt(metrics.mean_squared_error(test_label, test_pred)))"
   ]
  },
  {
   "cell_type": "code",
   "execution_count": 6,
   "metadata": {},
   "outputs": [
    {
     "name": "stdout",
     "output_type": "stream",
     "text": [
      "1.4049734594787202\n"
     ]
    }
   ],
   "source": [
    "from sklearn.linear_model import RidgeCV\n",
    "model =  RidgeCV (alphas=[0.1, 1.0, 10.0])\n",
    "model.fit(train_data, train_label)\n",
    "test_pred = model.predict(test_data)\n",
    "print(np.sqrt(metrics.mean_squared_error(test_label, test_pred)))"
   ]
  },
  {
   "cell_type": "code",
   "execution_count": 7,
   "metadata": {},
   "outputs": [
    {
     "name": "stdout",
     "output_type": "stream",
     "text": [
      "1.4057483336366394\n"
     ]
    }
   ],
   "source": [
    "from sklearn.linear_model import Lasso\n",
    "model =  Lasso(alpha=0.1)\n",
    "model.fit(train_data, train_label)\n",
    "test_pred = model.predict(test_data)\n",
    "print(np.sqrt(metrics.mean_squared_error(test_label, test_pred)))"
   ]
  },
  {
   "cell_type": "code",
   "execution_count": 8,
   "metadata": {},
   "outputs": [
    {
     "name": "stdout",
     "output_type": "stream",
     "text": [
      "1.4169216816103538\n"
     ]
    }
   ],
   "source": [
    "from sklearn.linear_model import LassoCV\n",
    "model =  LassoCV(alphas=[0.1, 1.0, 10.0], cv=5)\n",
    "model.fit(train_data, train_label)\n",
    "test_pred = model.predict(test_data)\n",
    "print(np.sqrt(metrics.mean_squared_error(test_label, test_pred)))"
   ]
  },
  {
   "cell_type": "code",
   "execution_count": 9,
   "metadata": {},
   "outputs": [
    {
     "name": "stdout",
     "output_type": "stream",
     "text": [
      "2.1789417950559846\n"
     ]
    }
   ],
   "source": [
    "from sklearn.linear_model import LassoLars\n",
    "model =  LassoLars(alpha=0.1)\n",
    "model.fit(train_data, train_label)\n",
    "test_pred = model.predict(test_data)\n",
    "print(np.sqrt(metrics.mean_squared_error(test_label, test_pred)))"
   ]
  },
  {
   "cell_type": "code",
   "execution_count": 10,
   "metadata": {},
   "outputs": [
    {
     "name": "stdout",
     "output_type": "stream",
     "text": [
      "1.4026240169662034\n"
     ]
    }
   ],
   "source": [
    "from sklearn.linear_model import LassoLarsCV\n",
    "model =  LassoLarsCV(cv=5)\n",
    "model.fit(train_data, train_label)\n",
    "test_pred = model.predict(test_data)\n",
    "print(np.sqrt(metrics.mean_squared_error(test_label, test_pred)))"
   ]
  },
  {
   "cell_type": "code",
   "execution_count": 11,
   "metadata": {},
   "outputs": [
    {
     "name": "stdout",
     "output_type": "stream",
     "text": [
      "1.4048770912814341\n"
     ]
    }
   ],
   "source": [
    "from sklearn.linear_model import LassoLarsIC\n",
    "model =  LassoLarsIC()\n",
    "model.fit(train_data, train_label)\n",
    "test_pred = model.predict(test_data)\n",
    "print(np.sqrt(metrics.mean_squared_error(test_label, test_pred)))"
   ]
  },
  {
   "cell_type": "code",
   "execution_count": 12,
   "metadata": {},
   "outputs": [
    {
     "name": "stdout",
     "output_type": "stream",
     "text": [
      "1.4051815501709382\n"
     ]
    }
   ],
   "source": [
    "from sklearn.linear_model import ElasticNet\n",
    "model =  ElasticNet(alpha=0.1, l1_ratio =0.1)\n",
    "model.fit(train_data, train_label)\n",
    "test_pred = model.predict(test_data)\n",
    "print(np.sqrt(metrics.mean_squared_error(test_label, test_pred)))"
   ]
  },
  {
   "cell_type": "code",
   "execution_count": 13,
   "metadata": {},
   "outputs": [
    {
     "name": "stdout",
     "output_type": "stream",
     "text": [
      "1.4180560183339896\n"
     ]
    }
   ],
   "source": [
    "from sklearn.linear_model import ElasticNetCV\n",
    "model =  ElasticNetCV(cv=5)\n",
    "model.fit(train_data, train_label)\n",
    "test_pred = model.predict(test_data)\n",
    "print(np.sqrt(metrics.mean_squared_error(test_label, test_pred)))"
   ]
  },
  {
   "cell_type": "code",
   "execution_count": 14,
   "metadata": {},
   "outputs": [
    {
     "name": "stdout",
     "output_type": "stream",
     "text": [
      "1.3879034699382897\n"
     ]
    }
   ],
   "source": [
    "from sklearn.linear_model import OrthogonalMatchingPursuit\n",
    "model =  OrthogonalMatchingPursuit(n_nonzero_coefs =2)\n",
    "model.fit(train_data, train_label)\n",
    "test_pred = model.predict(test_data)\n",
    "print(np.sqrt(metrics.mean_squared_error(test_label, test_pred)))"
   ]
  },
  {
   "cell_type": "code",
   "execution_count": 15,
   "metadata": {},
   "outputs": [
    {
     "name": "stdout",
     "output_type": "stream",
     "text": [
      "1.3879034699382897\n"
     ]
    }
   ],
   "source": [
    "from sklearn.linear_model import OrthogonalMatchingPursuitCV\n",
    "model =  OrthogonalMatchingPursuitCV(cv=5)\n",
    "model.fit(train_data, train_label)\n",
    "test_pred = model.predict(test_data)\n",
    "print(np.sqrt(metrics.mean_squared_error(test_label, test_pred)))"
   ]
  },
  {
   "cell_type": "code",
   "execution_count": 16,
   "metadata": {},
   "outputs": [
    {
     "name": "stdout",
     "output_type": "stream",
     "text": [
      "1.4137303264637149\n"
     ]
    }
   ],
   "source": [
    "from sklearn.linear_model import BayesianRidge\n",
    "model =  BayesianRidge()\n",
    "model.fit(train_data, train_label)\n",
    "test_pred = model.predict(test_data)\n",
    "print(np.sqrt(metrics.mean_squared_error(test_label, test_pred)))"
   ]
  },
  {
   "cell_type": "code",
   "execution_count": 17,
   "metadata": {},
   "outputs": [
    {
     "name": "stdout",
     "output_type": "stream",
     "text": [
      "1.3890642344625879\n"
     ]
    }
   ],
   "source": [
    "from sklearn.linear_model import ARDRegression\n",
    "model =  ARDRegression()\n",
    "model.fit(train_data, train_label)\n",
    "test_pred = model.predict(test_data)\n",
    "print(np.sqrt(metrics.mean_squared_error(test_label, test_pred)))"
   ]
  },
  {
   "cell_type": "code",
   "execution_count": 28,
   "metadata": {},
   "outputs": [
    {
     "name": "stdout",
     "output_type": "stream",
     "text": [
      "1.3579951669009485\n"
     ]
    }
   ],
   "source": [
    "from sklearn.linear_model import HuberRegressor\n",
    "model =  HuberRegressor(epsilon=1.5)\n",
    "model.fit(train_data, train_label)\n",
    "test_pred = model.predict(test_data)\n",
    "print(np.sqrt(metrics.mean_squared_error(test_label, test_pred)))"
   ]
  },
  {
   "cell_type": "markdown",
   "metadata": {},
   "source": [
    "# 线性回归整理\n",
    "$$h_{w}(x^{i})=w^{^{T}}x_{i}+b$$"
   ]
  },
  {
   "cell_type": "markdown",
   "metadata": {},
   "source": [
    "|name|中文名称|损失函数|正则项|优化方法|验证方法|超参数|参数|描述|\n",
    "|--|--|--|--|--|--|--|--|--|\n",
    "|LinearRegression|线性回归|$$ J(W)=\\frac{1}{2M}\\sum_{i=0}^{M}(h_{w}(x^{i})-y^{i})^{2}$$|-|最小二乘法|-|-|w，b|解决基本的线性回归问题|\n",
    "|Ridge|岭回归|$$J(W)=\\frac{1}{2M}\\sum_{i=0}^{M}(h_{w}(x^{i})-y^{i})^{2}+\\alpha \\sum_{j=0}^{N}w^{2}$$|L2|最小二乘法|-|$$\\alpha$$|w，b|解决过拟合问题，但参数均不为0|\n",
    "|RidgeCV|岭回归|$$J(W)=\\frac{1}{2M}\\sum_{i=0}^{M}(h_{w}(x^{i})-y^{i})^{2}+\\alpha \\sum_{j=0}^{N}w^{2}$$|L2|最小二乘法|交叉验证|$$list(\\alpha)$$|w，b|在超参数列表中找到一个最好的超参数|\n",
    "|Lasso|最小绝对值收敛和选择算子、套索算法|$$J(W)=\\frac{1}{2M}\\sum_{i=0}^{M}(h_{w}(x^{i})-y^{i})^{2}+\\alpha \\sum_{j=0}^{N}\\left | w \\right |$$|L1|坐标下降算法|-|$$\\alpha$$|w，b|允许参数为0，参数为稀疏矩阵|\n",
    "|LassoCV|最小绝对值收敛和选择算子、套索算法|$$J(W)=\\frac{1}{2M}\\sum_{i=0}^{M}(h_{w}(x^{i})-y^{i})^{2}+\\alpha \\sum_{j=0}^{N}\\left | w \\right |$$|L1|坐标下降算法|交叉验证|$$list(\\alpha)$$|w，b|在超参数列表中找到一个最好的超参数|\n",
    "|LassoLars|最小绝对值收敛和选择算子、套索算法|$$J(W)=\\frac{1}{2M}\\sum_{i=0}^{M}(h_{w}(x^{i})-y^{i})^{2}+\\alpha \\sum_{j=0}^{N}\\left | w \\right |$$|L1|最小角回归法|-|$$\\alpha$$|w，b|样本数远小于样本特征数,可以看到回归路径|\n",
    "|LassoLarsCV|最小绝对值收敛和选择算子、套索算法|$$J(W)=\\frac{1}{2M}\\sum_{i=0}^{M}(h_{w}(x^{i})-y^{i})^{2}+\\alpha \\sum_{j=0}^{N}\\left | w \\right |$$|L1|最小角回归法|交叉验证|$$list(\\alpha)$$|w，b|在超参数列表中找到一个最好的超参数|\n",
    "|LassoLarsIC|最小绝对值收敛和选择算子、套索算法|$$J(W)=\\frac{1}{2M}\\sum_{i=0}^{M}(h_{w}(x^{i})-y^{i})^{2}+\\alpha \\sum_{j=0}^{N}\\left | w \\right |$$|L1|最小角回归法|AIC,BIC|-|α，w，b|自动求超参|\n",
    "|ElasticNet|弹性网络|$J(W)=\\frac{1}{2M}\\sum_{i=0}^{M}(h_{w}(x^{i})-y^{i})^{2}+\\\\\\alpha(\\beta  \\sum_{j=0}^{N}\\left | w \\right |+\\frac{(1-\\beta)}{2}\\sum_{j=0}^{N}w^{2})$|L1, L2|坐标轴下降法|-|$\\alpha,\\beta$|w，b|少部分参数为0，防止过拟合|\n",
    "|ElasticNetCV|弹性网络|$J(W)=\\frac{1}{2M}\\sum_{i=0}^{M}(h_{w}(x^{i})-y^{i})^{2}+\\\\\\alpha(\\beta  \\sum_{j=0}^{N}\\left | w \\right |+\\frac{(1-\\beta)}{2}\\sum_{j=0}^{N}w^{2})$|L1, L2|坐标轴下降法|交叉验证|-|$\\alpha,\\beta,w, b$|自动求超参数|\n",
    "|OrthogonalMatchingPursuit|正交匹配追踪法|$ J(W)=\\frac{1}{2M}\\sum_{i=0}^{M}(h_{w}(x^{i})-y^{i})^{2}\\\\subject to ||θ||0≤nnon−zero−coefs$|-|前向选择算法|-|n|w，b|自行设置非0参数的个数，精度较低|\n",
    "|OrthogonalMatchingPursuitCV|正交匹配追踪法|$ J(W)=\\frac{1}{2M}\\sum_{i=0}^{M}(h_{w}(x^{i})-y^{i})^{2}\\\\subject to ||θ||0≤nnon−zero−coefs$|-|前向选择算法|交叉验证|-|n,w，b|自动求超参数，精度较低|\n",
    "|BayesianRidge|贝叶斯岭回归|$$J(W)=\\frac{1}{2M}\\sum_{i=0}^{M}(h_{w}(x^{i})-y^{i})^{2}+\\alpha \\sum_{j=0}^{N}w^{2}$$|L2|最大似然|-|-|$\\alpha,w,b$|对病态数据鲁棒性很高，时间花费大|\n",
    "|BayesianRidge|稀疏贝叶斯学习 |$$J(W)=\\frac{1}{2M}\\sum_{i=0}^{M}(h_{w}(x^{i})-y^{i})^{2}+\\alpha \\sum_{j=0}^{N}w^{2}$$|L2|最大似然|-|-|$\\alpha,w,b$|对病态数据鲁棒性很高，时间花费大|\n",
    "|HuberRegressor|- |-|-|-|-|-|-|适用于具有强离群点的数据|\n"
   ]
  },
  {
   "cell_type": "markdown",
   "metadata": {},
   "source": [
    "# 总结\n",
    "线性回归= 基本模型+损失函数(优化目标)+正则化方式+优化方法\n",
    "\n",
    "sklearn中实现的各种算法，基本是在公式下变化，各有优劣，选择模型时，从数据量（计算速度），要求精度，数据自身情况入手，选择不同的模型，比如在广告投放方式及花费的数据中存在大量的离群点，所以用HuberRegressor效果最好"
   ]
  },
  {
   "cell_type": "code",
   "execution_count": null,
   "metadata": {},
   "outputs": [],
   "source": []
  },
  {
   "cell_type": "code",
   "execution_count": null,
   "metadata": {},
   "outputs": [],
   "source": []
  }
 ],
 "metadata": {
  "kernelspec": {
   "display_name": "Python 3",
   "language": "python",
   "name": "python3"
  },
  "language_info": {
   "codemirror_mode": {
    "name": "ipython",
    "version": 3
   },
   "file_extension": ".py",
   "mimetype": "text/x-python",
   "name": "python",
   "nbconvert_exporter": "python",
   "pygments_lexer": "ipython3",
   "version": "3.6.7"
  }
 },
 "nbformat": 4,
 "nbformat_minor": 2
}
